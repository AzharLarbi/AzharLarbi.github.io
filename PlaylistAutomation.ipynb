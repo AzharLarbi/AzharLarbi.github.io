{
  "nbformat": 4,
  "nbformat_minor": 0,
  "metadata": {
    "colab": {
      "provenance": [],
      "authorship_tag": "ABX9TyMRXyFQqjIxK1+X5T7J796E",
      "include_colab_link": true
    },
    "kernelspec": {
      "name": "python3",
      "display_name": "Python 3"
    },
    "language_info": {
      "name": "python"
    }
  },
  "cells": [
    {
      "cell_type": "markdown",
      "metadata": {
        "id": "view-in-github",
        "colab_type": "text"
      },
      "source": [
        "<a href=\"https://colab.research.google.com/github/AzharLarbi/TechPorfolio/blob/main/PlaylistAutomation.ipynb\" target=\"_parent\"><img src=\"https://colab.research.google.com/assets/colab-badge.svg\" alt=\"Open In Colab\"/></a>"
      ]
    },
    {
      "cell_type": "code",
      "execution_count": 1,
      "metadata": {
        "colab": {
          "base_uri": "https://localhost:8080/",
          "height": 393
        },
        "id": "LkmQDCPqfDG2",
        "outputId": "206b0035-a4dc-48dc-d859-739ad54b261a"
      },
      "outputs": [
        {
          "output_type": "error",
          "ename": "ModuleNotFoundError",
          "evalue": "No module named 'dotenv'",
          "traceback": [
            "\u001b[0;31m---------------------------------------------------------------------------\u001b[0m",
            "\u001b[0;31mModuleNotFoundError\u001b[0m                       Traceback (most recent call last)",
            "\u001b[0;32m<ipython-input-1-6bd1c91f1b9b>\u001b[0m in \u001b[0;36m<cell line: 1>\u001b[0;34m()\u001b[0m\n\u001b[0;32m----> 1\u001b[0;31m \u001b[0;32mfrom\u001b[0m \u001b[0mdotenv\u001b[0m \u001b[0;32mimport\u001b[0m \u001b[0mload_dotenv\u001b[0m\u001b[0;34m\u001b[0m\u001b[0;34m\u001b[0m\u001b[0m\n\u001b[0m\u001b[1;32m      2\u001b[0m \u001b[0;32mimport\u001b[0m \u001b[0mos\u001b[0m\u001b[0;34m\u001b[0m\u001b[0;34m\u001b[0m\u001b[0m\n\u001b[1;32m      3\u001b[0m \u001b[0;32mimport\u001b[0m \u001b[0mbase64\u001b[0m\u001b[0;34m\u001b[0m\u001b[0;34m\u001b[0m\u001b[0m\n\u001b[1;32m      4\u001b[0m \u001b[0;32mfrom\u001b[0m \u001b[0mrequests\u001b[0m \u001b[0;32mimport\u001b[0m \u001b[0mpost\u001b[0m\u001b[0;34m,\u001b[0m \u001b[0mget\u001b[0m\u001b[0;34m\u001b[0m\u001b[0;34m\u001b[0m\u001b[0m\n\u001b[1;32m      5\u001b[0m \u001b[0;32mimport\u001b[0m \u001b[0mjson\u001b[0m\u001b[0;34m\u001b[0m\u001b[0;34m\u001b[0m\u001b[0m\n",
            "\u001b[0;31mModuleNotFoundError\u001b[0m: No module named 'dotenv'",
            "",
            "\u001b[0;31m---------------------------------------------------------------------------\u001b[0;32m\nNOTE: If your import is failing due to a missing package, you can\nmanually install dependencies using either !pip or !apt.\n\nTo view examples of installing some common dependencies, click the\n\"Open Examples\" button below.\n\u001b[0;31m---------------------------------------------------------------------------\u001b[0m\n"
          ],
          "errorDetails": {
            "actions": [
              {
                "action": "open_url",
                "actionText": "Open Examples",
                "url": "/notebooks/snippets/importing_libraries.ipynb"
              }
            ]
          }
        }
      ],
      "source": [
        "from dotenv import load_dotenv\n",
        "import os\n",
        "import base64\n",
        "from requests import post, get\n",
        "import json\n",
        "from google_auth_oauthlib.flow import InstalledAppFlow\n",
        "from googleapiclient.discovery import build\n",
        "from google.auth.transport.requests import Request\n",
        "import pickle\n",
        "import time\n",
        "import logging\n",
        "from googleapiclient.errors import HttpError\n",
        "import random"
      ]
    },
    {
      "cell_type": "code",
      "source": [
        "# Load environment variables from .env file\n",
        "load_dotenv()\n",
        "\n",
        "# Spotify credentials\n",
        "client_id = os.getenv(\"CLIENT_ID\")\n",
        "client_secret = os.getenv(\"CLIENT_SECRET\")\n",
        "\n",
        "# YouTube API credentials\n",
        "youtube_client_secrets = 'client_secrets.json'\n",
        "youtube_scopes = [\"https://www.googleapis.com/auth/youtube.force-ssl\"]"
      ],
      "metadata": {
        "id": "mXNi60Z3fSco"
      },
      "execution_count": null,
      "outputs": []
    },
    {
      "cell_type": "code",
      "source": [
        "def get_spotify_token():\n",
        "    auth_string = client_id + \":\" + client_secret\n",
        "    auth_bytes = auth_string.encode(\"utf-8\")\n",
        "    auth_base64 = str(base64.b64encode(auth_bytes), \"utf-8\")\n",
        "\n",
        "    url = \"https://accounts.spotify.com/api/token\"\n",
        "    headers = {\n",
        "        \"Authorization\": \"Basic \" + auth_base64,\n",
        "        \"Content-Type\": \"application/x-www-form-urlencoded\"\n",
        "    }\n",
        "    data = {\"grant_type\": \"client_credentials\"}\n",
        "    result = post(url, headers=headers, data=data)\n",
        "    json_result = result.json()\n",
        "    token = json_result[\"access_token\"]\n",
        "    return token\n"
      ],
      "metadata": {
        "id": "lgCfA8qffTyC"
      },
      "execution_count": null,
      "outputs": []
    },
    {
      "cell_type": "code",
      "source": [
        "def get_spotify_auth_header(token):\n",
        "    return {\"Authorization\": \"Bearer \" + token}\n",
        "\n",
        "def get_spotify_playlist_items(playlist_id, token):\n",
        "    url = f\"https://api.spotify.com/v1/playlists/{playlist_id}/tracks\"\n",
        "    headers = get_spotify_auth_header(token)\n",
        "    result = get(url, headers=headers)\n",
        "    return result.json()\n",
        "\n",
        "def extract_spotify_playlist_data(playlist_data):\n",
        "    tracks_info = {}\n",
        "    for item in playlist_data['items']:\n",
        "        track = item['track']\n",
        "        track_name = track['name']\n",
        "        artist_names = [artist['name'] for artist in track['artists']]\n",
        "        tracks_info[track_name] = artist_names\n",
        "    return tracks_info\n",
        "\n",
        "def extract_playlist_id(playlist_url_or_id):\n",
        "    if 'spotify.com' in playlist_url_or_id:\n",
        "        return playlist_url_or_id.split('/')[-1].split('?')[0]\n",
        "    return playlist_url_or_id"
      ],
      "metadata": {
        "id": "c-EG1TfsfTtn"
      },
      "execution_count": null,
      "outputs": []
    },
    {
      "cell_type": "code",
      "source": [
        "def get_authenticated_youtube_service():\n",
        "    creds = None\n",
        "    if os.path.exists('token.pickle'):\n",
        "        with open('token.pickle', 'rb') as token:\n",
        "            creds = pickle.load(token)\n",
        "    if not creds or not creds.valid:\n",
        "        if creds and creds.expired and creds.refresh_token:\n",
        "            creds.refresh(Request())\n",
        "        else:\n",
        "            flow = InstalledAppFlow.from_client_secrets_file(youtube_client_secrets, youtube_scopes)\n",
        "            creds = flow.run_local_server(port=0)\n",
        "        with open('token.pickle', 'wb') as token:\n",
        "            pickle.dump(creds, token)\n",
        "    return build('youtube', 'v3', credentials=creds)"
      ],
      "metadata": {
        "id": "ssFqXy--fTp-"
      },
      "execution_count": null,
      "outputs": []
    },
    {
      "cell_type": "code",
      "source": [
        "def search_youtube(youtube, query):\n",
        "    request = youtube.search().list(\n",
        "        part=\"snippet\",\n",
        "        q=query,\n",
        "        maxResults=1\n",
        "    )\n",
        "    response = request.execute()\n",
        "    return response\n",
        "\n",
        "def create_youtube_playlist(youtube, title, description):\n",
        "    request = youtube.playlists().insert(\n",
        "        part=\"snippet,status\",\n",
        "        body={\n",
        "            \"snippet\": {\n",
        "                \"title\": title,\n",
        "                \"description\": description\n",
        "            },\n",
        "            \"status\": {\n",
        "                \"privacyStatus\": \"private\"\n",
        "            }\n",
        "        }\n",
        "    )\n",
        "    response = request.execute()\n",
        "    return response[\"id\"]"
      ],
      "metadata": {
        "id": "CKvihOp4fTk6"
      },
      "execution_count": null,
      "outputs": []
    },
    {
      "cell_type": "code",
      "source": [
        "# Configure logging\n",
        "logging.basicConfig(level=logging.INFO)\n",
        "logger = logging.getLogger(__name__)\n",
        "\n",
        "def add_video_to_youtube_playlist(youtube, playlist_id, video_id, retries=5):\n",
        "    for attempt in range(retries):\n",
        "        try:\n",
        "            request = youtube.playlistItems().insert(\n",
        "                part=\"snippet\",\n",
        "                body={\n",
        "                    \"snippet\": {\n",
        "                        \"playlistId\": playlist_id,\n",
        "                        \"resourceId\": {\n",
        "                            \"kind\": \"youtube#video\",\n",
        "                            \"videoId\": video_id\n",
        "                        }\n",
        "                    }\n",
        "                }\n",
        "            )\n",
        "            response = request.execute()\n",
        "            return response\n",
        "        except HttpError as e:\n",
        "            if e.resp.status in [500, 502, 503, 504, 409]:\n",
        "                wait_time = (2 ** attempt) + (random.randint(0, 1000) / 1000)\n",
        "                logger.warning(f\"Temporary error {e.resp.status}, retrying in {wait_time} seconds...\")\n",
        "                time.sleep(wait_time)\n",
        "            else:\n",
        "                logger.error(f\"Failed with error {e.resp.status}: {e}\")\n",
        "                raise\n",
        "    raise Exception(\"Exceeded maximum retries\")"
      ],
      "metadata": {
        "id": "ZyPoLR-GfTaF"
      },
      "execution_count": null,
      "outputs": []
    },
    {
      "cell_type": "code",
      "source": [
        "def main():\n",
        "    # Get Spotify token and fetch playlist items\n",
        "    spotify_token = get_spotify_token()\n",
        "    playlist_url_or_id = '6X3pGyGPgeLJ0Chre2bvjt'  # Replace with your Spotify playlist URL or ID\n",
        "    spotify_playlist_id = extract_playlist_id(playlist_url_or_id)\n",
        "    spotify_playlist_items = get_spotify_playlist_items(spotify_playlist_id, spotify_token)\n",
        "    spotify_tracks = extract_spotify_playlist_data(spotify_playlist_items)\n",
        "\n",
        "    # Get authenticated YouTube service\n",
        "    youtube = get_authenticated_youtube_service()\n",
        "\n",
        "    # Create a new YouTube playlist\n",
        "    youtube_playlist_id = create_youtube_playlist(youtube, \"My Spotify Playlist\", \"Playlist created from Spotify tracks\")\n",
        "\n",
        "    # Search YouTube for each track and add it to the playlist\n",
        "    for track, artists in spotify_tracks.items():\n",
        "        search_query = f\"{track} {' '.join(artists)}\"\n",
        "        try:\n",
        "            youtube_result = search_youtube(youtube, search_query)\n",
        "            if youtube_result['items']:\n",
        "                video_id = youtube_result['items'][0]['id']['videoId']\n",
        "                add_video_to_youtube_playlist(youtube, youtube_playlist_id, video_id)\n",
        "                print(f\"Added {track} by {', '.join(artists)} to YouTube playlist.\")\n",
        "            else:\n",
        "                print(f\"No YouTube result found for {track} by {', '.join(artists)}.\")\n",
        "        except Exception as e:\n",
        "            logger.error(f\"Error processing {track} by {', '.join(artists)}: {e}\")\n",
        "\n",
        "if __name__ == \"__main__\":\n",
        "    main()"
      ],
      "metadata": {
        "id": "mni1jroSfsYz"
      },
      "execution_count": null,
      "outputs": []
    }
  ]
}